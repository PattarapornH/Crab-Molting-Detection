{
  "nbformat": 4,
  "nbformat_minor": 0,
  "metadata": {
    "colab": {
      "name": "Molting crab tracker.ipynb",
      "provenance": [],
      "collapsed_sections": [],
      "include_colab_link": true
    },
    "kernelspec": {
      "name": "python3",
      "display_name": "Python 3"
    }
  },
  "cells": [
    {
      "cell_type": "markdown",
      "metadata": {
        "id": "view-in-github",
        "colab_type": "text"
      },
      "source": [
        "<a href=\"https://colab.research.google.com/github/PattarapornH/Crab-Molting-Detection/blob/master/Molting_crab_tracker.ipynb\" target=\"_parent\"><img src=\"https://colab.research.google.com/assets/colab-badge.svg\" alt=\"Open In Colab\"/></a>"
      ]
    },
    {
      "cell_type": "code",
      "metadata": {
        "id": "ExIpH9vQIG4A",
        "colab_type": "code",
        "colab": {}
      },
      "source": [
        "import os\n",
        "import numpy as np\n",
        "import pandas as pd\n",
        "import matplotlib.pyplot as plt\n",
        "%matplotlib inline"
      ],
      "execution_count": 0,
      "outputs": []
    },
    {
      "cell_type": "code",
      "metadata": {
        "id": "lnY6BRvlIZcO",
        "colab_type": "code",
        "outputId": "714b7e08-8773-43ff-d143-9f98a8fd542d",
        "colab": {
          "base_uri": "https://localhost:8080/",
          "height": 35
        }
      },
      "source": [
        "from google.colab import drive\n",
        "drive.mount('/content/gdrive',force_remount=True)"
      ],
      "execution_count": 2,
      "outputs": [
        {
          "output_type": "stream",
          "text": [
            "Mounted at /content/gdrive\n"
          ],
          "name": "stdout"
        }
      ]
    },
    {
      "cell_type": "code",
      "metadata": {
        "id": "zJRXAiUG-Oaw",
        "colab_type": "code",
        "colab": {}
      },
      "source": [
        "import sys\n",
        "sys.path.append('/content/gdrive/My Drive/Year4/Project/local_modules')"
      ],
      "execution_count": 0,
      "outputs": []
    },
    {
      "cell_type": "code",
      "metadata": {
        "id": "oMLpOckZiIbq",
        "colab_type": "code",
        "colab": {}
      },
      "source": [
        "case = ['Case1_2018_12_29_Camera1_Coor(1_1)','Case2_2018_12_30_Camera1_Coor(4_8)','Case4_2019_01_07_Camera2_Coor(1_4)',\n",
        "        'Case6_2019_01_12_Camera2_Coor(4_9)','Case8_2018_10_10_Coor(5_4)','Case9_2018_10_05_Coor(1_4_3_6)','Case10_2018_09_29_Coor(5_2)']\n",
        "\n",
        "rect_val = [(80,15,38,55,12,15),(80,15,38,55,12,15),(70,15,38,55,11,15),(70,15,38,55,11,15),(70,15,38,55,11,15),\n",
        "            (70,15,40,55,11,15),(70,15,40,55,11,15)]"
      ],
      "execution_count": 0,
      "outputs": []
    },
    {
      "cell_type": "code",
      "metadata": {
        "id": "ljsYQwqujBEH",
        "colab_type": "code",
        "outputId": "d6e8924c-858c-4105-9cd5-d34e8d990f72",
        "colab": {
          "base_uri": "https://localhost:8080/",
          "height": 35
        }
      },
      "source": [
        "from preprocess import prep\n",
        "from tqdm import tqdm\n",
        "\n",
        "# time_series = [dict(key : [[],[]]),...]\n",
        "pre = prep()\n",
        "time_series = []\n",
        "for i in tqdm(range(len(case)),ncols = 100):\n",
        "  time_series.append(pre.get_time_series(case=case[i],rect_value=rect_val[i]))\n",
        "  # print('')"
      ],
      "execution_count": 5,
      "outputs": [
        {
          "output_type": "stream",
          "text": [
            "100%|█████████████████████████████████████████████████████████████████| 7/7 [09:15<00:00, 83.02s/it]\n"
          ],
          "name": "stderr"
        }
      ]
    },
    {
      "cell_type": "code",
      "metadata": {
        "id": "SGRGXqNdkTDK",
        "colab_type": "code",
        "colab": {
          "base_uri": "https://localhost:8080/",
          "height": 35
        },
        "outputId": "adc5ea2d-3960-4c53-a948-28d3e67e47e1"
      },
      "source": [
        "type(time_series[0]['A1'][0][1])"
      ],
      "execution_count": 41,
      "outputs": [
        {
          "output_type": "execute_result",
          "data": {
            "text/plain": [
              "int"
            ]
          },
          "metadata": {
            "tags": []
          },
          "execution_count": 41
        }
      ]
    },
    {
      "cell_type": "code",
      "metadata": {
        "id": "5OKcRgxbk7zh",
        "colab_type": "code",
        "colab": {
          "base_uri": "https://localhost:8080/",
          "height": 35
        },
        "outputId": "ff79fffa-9270-454b-c52a-4d7ce006478b"
      },
      "source": [
        "len(time_series[0]['A1'][0])"
      ],
      "execution_count": 14,
      "outputs": [
        {
          "output_type": "execute_result",
          "data": {
            "text/plain": [
              "60"
            ]
          },
          "metadata": {
            "tags": []
          },
          "execution_count": 14
        }
      ]
    },
    {
      "cell_type": "markdown",
      "metadata": {
        "id": "cFSHLM7xcKal",
        "colab_type": "text"
      },
      "source": [
        "## Label"
      ]
    },
    {
      "cell_type": "code",
      "metadata": {
        "id": "axjCW9pUjj8N",
        "colab_type": "code",
        "colab": {}
      },
      "source": [
        "molt = [['A1'],['D8'],['A4'],['C9'],['D4'],['A4','C6'],['E2']]\n",
        "X_diff = []\n",
        "X_white = []\n",
        "y = []\n",
        "# time_series --> [dict(key : [[],[]]),...]\n",
        "for i,time in enumerate(time_series):\n",
        "  for key in time.keys():\n",
        "    X_diff.append(time[key][0])\n",
        "    X_white.append(time[key][1])\n",
        "    if(key in molt[i]):\n",
        "      y.append(1)\n",
        "    else:\n",
        "      y.append(0)"
      ],
      "execution_count": 0,
      "outputs": []
    },
    {
      "cell_type": "code",
      "metadata": {
        "id": "zYWfdESyr7IY",
        "colab_type": "code",
        "colab": {}
      },
      "source": [
        "# padding\n",
        "from keras.preprocessing.sequence import pad_sequences\n",
        "\n",
        "def padding(X):\n",
        "  max_len = -1\n",
        "  for x in X:\n",
        "    if(max_len < len(x)):\n",
        "      max_len = len(x)\n",
        "  return pad_sequences(X,padding='post',maxlen = max_len, value=0)\n",
        "\n",
        "X_diff = padding(X_diff)\n",
        "X_white = padding(X_white)"
      ],
      "execution_count": 0,
      "outputs": []
    },
    {
      "cell_type": "code",
      "metadata": {
        "id": "hZ8X4XzHnw9X",
        "colab_type": "code",
        "colab": {}
      },
      "source": [
        "X_diff = np.array(X_diff)\n",
        "X_white = np.array(X_white)\n",
        "y = np.array(y)"
      ],
      "execution_count": 0,
      "outputs": []
    },
    {
      "cell_type": "code",
      "metadata": {
        "id": "WE5QM4T7Eqiy",
        "colab_type": "code",
        "colab": {
          "base_uri": "https://localhost:8080/",
          "height": 52
        },
        "outputId": "08e08bd4-eac7-4841-d743-6c244e892b3b"
      },
      "source": [
        "X_diff = np.reshape(X_diff, (X_diff.shape[0], X_diff.shape[1], 1))\n",
        "X_white = np.reshape(X_white, (X_white.shape[0], X_white.shape[1], 1))\n",
        "\n",
        "print(X_diff.shape,y.shape)\n",
        "print(X_white.shape,y.shape)"
      ],
      "execution_count": 98,
      "outputs": [
        {
          "output_type": "stream",
          "text": [
            "(350, 113, 1) (350,)\n",
            "(350, 113, 1) (350,)\n"
          ],
          "name": "stdout"
        }
      ]
    },
    {
      "cell_type": "code",
      "metadata": {
        "id": "YthnTmJZ7RyR",
        "colab_type": "code",
        "colab": {}
      },
      "source": [
        "from keras.utils import np_utils\n",
        "y = np_utils.to_categorical(y)"
      ],
      "execution_count": 0,
      "outputs": []
    },
    {
      "cell_type": "code",
      "metadata": {
        "id": "E_lSmE0YcE3Y",
        "colab_type": "code",
        "outputId": "0a0b1982-9d40-4747-c268-9298747f1e41",
        "colab": {
          "base_uri": "https://localhost:8080/",
          "height": 52
        }
      },
      "source": [
        "print(X_diff.shape,y_diff.shape)\n",
        "print(X_white.shape,y_white.shape)"
      ],
      "execution_count": 100,
      "outputs": [
        {
          "output_type": "stream",
          "text": [
            "(350, 113, 1) (350, 2)\n",
            "(350, 113, 1) (350, 2)\n"
          ],
          "name": "stdout"
        }
      ]
    },
    {
      "cell_type": "markdown",
      "metadata": {
        "id": "cY0RT3Pd5D7P",
        "colab_type": "text"
      },
      "source": [
        "## Functional API"
      ]
    },
    {
      "cell_type": "code",
      "metadata": {
        "id": "IEHka3Jf5IdT",
        "colab_type": "code",
        "colab": {
          "base_uri": "https://localhost:8080/",
          "height": 520
        },
        "outputId": "7033882a-7a36-4011-dae4-d675efdb0086"
      },
      "source": [
        "from keras.models import Model\n",
        "from keras.layers import Input\n",
        "from keras.layers import Dense\n",
        "from keras.layers.merge import concatenate\n",
        "from keras.layers.recurrent import LSTM\n",
        "\n",
        "# diff_model\n",
        "input_diff = Input(shape=(113,1))\n",
        "diff_lstm = LSTM(10)(input_diff)\n",
        "diff_model = Model(inputs=input_diff, outputs=diff_lstm)\n",
        "print(\"DIFF MODEL\")\n",
        "print(diff_model.summary())\n",
        "# white_model\n",
        "input_white = Input(shape=(113,1))\n",
        "white_lstm = LSTM(10)(input_white)\n",
        "white_model = Model(inputs=input_white, outputs=white_lstm)\n",
        "print(\"\\nWHITE MODEL\")\n",
        "print(white_model.summary())\n",
        "\n",
        "x = concatenate([diff_lstm,white_lstm])\n",
        "x = Dense(40)(x)\n",
        "output = Dense(2, activation='softmax')(x)"
      ],
      "execution_count": 119,
      "outputs": [
        {
          "output_type": "stream",
          "text": [
            "DIFF MODEL\n",
            "Model: \"model_40\"\n",
            "_________________________________________________________________\n",
            "Layer (type)                 Output Shape              Param #   \n",
            "=================================================================\n",
            "input_39 (InputLayer)        (None, 113, 1)            0         \n",
            "_________________________________________________________________\n",
            "lstm_39 (LSTM)               (None, 10)                480       \n",
            "=================================================================\n",
            "Total params: 480\n",
            "Trainable params: 480\n",
            "Non-trainable params: 0\n",
            "_________________________________________________________________\n",
            "None\n",
            "\n",
            "WHITE MODEL\n",
            "Model: \"model_41\"\n",
            "_________________________________________________________________\n",
            "Layer (type)                 Output Shape              Param #   \n",
            "=================================================================\n",
            "input_40 (InputLayer)        (None, 113, 1)            0         \n",
            "_________________________________________________________________\n",
            "lstm_40 (LSTM)               (None, 10)                480       \n",
            "=================================================================\n",
            "Total params: 480\n",
            "Trainable params: 480\n",
            "Non-trainable params: 0\n",
            "_________________________________________________________________\n",
            "None\n"
          ],
          "name": "stdout"
        }
      ]
    },
    {
      "cell_type": "code",
      "metadata": {
        "id": "2tizevzBDOab",
        "colab_type": "code",
        "colab": {
          "base_uri": "https://localhost:8080/",
          "height": 416
        },
        "outputId": "452fef8c-ae14-4a73-c57b-46dc03d1a03c"
      },
      "source": [
        "from keras.models import Model\n",
        "\n",
        "model = Model(inputs=[input_diff,input_white], outputs=output)\n",
        "model.summary()"
      ],
      "execution_count": 120,
      "outputs": [
        {
          "output_type": "stream",
          "text": [
            "Model: \"model_42\"\n",
            "__________________________________________________________________________________________________\n",
            "Layer (type)                    Output Shape         Param #     Connected to                     \n",
            "==================================================================================================\n",
            "input_39 (InputLayer)           (None, 113, 1)       0                                            \n",
            "__________________________________________________________________________________________________\n",
            "input_40 (InputLayer)           (None, 113, 1)       0                                            \n",
            "__________________________________________________________________________________________________\n",
            "lstm_39 (LSTM)                  (None, 10)           480         input_39[0][0]                   \n",
            "__________________________________________________________________________________________________\n",
            "lstm_40 (LSTM)                  (None, 10)           480         input_40[0][0]                   \n",
            "__________________________________________________________________________________________________\n",
            "concatenate_17 (Concatenate)    (None, 20)           0           lstm_39[0][0]                    \n",
            "                                                                 lstm_40[0][0]                    \n",
            "__________________________________________________________________________________________________\n",
            "dense_29 (Dense)                (None, 40)           840         concatenate_17[0][0]             \n",
            "__________________________________________________________________________________________________\n",
            "dense_30 (Dense)                (None, 2)            82          dense_29[0][0]                   \n",
            "==================================================================================================\n",
            "Total params: 1,882\n",
            "Trainable params: 1,882\n",
            "Non-trainable params: 0\n",
            "__________________________________________________________________________________________________\n"
          ],
          "name": "stdout"
        }
      ]
    },
    {
      "cell_type": "code",
      "metadata": {
        "id": "RHe5lXRzUvhd",
        "colab_type": "code",
        "colab": {
          "base_uri": "https://localhost:8080/",
          "height": 1000
        },
        "outputId": "7ccb55d8-5c8b-48a0-f1a1-ae64efed29f2"
      },
      "source": [
        "from sklearn.utils.class_weight import compute_class_weight\n",
        "y_int = np.argmax(y,axis=1)\n",
        "\n",
        "class_weight = compute_class_weight('balanced',np.unique(y_int),y_int)\n",
        "model.compile(loss='binary_crossentropy', optimizer='adam', metrics=['accuracy'])\n",
        "train_model = model.fit([X_diff,X_white], y,epochs=50, validation_split=0.2, class_weight=class_weight)"
      ],
      "execution_count": 121,
      "outputs": [
        {
          "output_type": "stream",
          "text": [
            "WARNING:tensorflow:From /usr/local/lib/python3.6/dist-packages/keras/backend/tensorflow_backend.py:1033: The name tf.assign_add is deprecated. Please use tf.compat.v1.assign_add instead.\n",
            "\n",
            "WARNING:tensorflow:From /usr/local/lib/python3.6/dist-packages/keras/backend/tensorflow_backend.py:1020: The name tf.assign is deprecated. Please use tf.compat.v1.assign instead.\n",
            "\n",
            "WARNING:tensorflow:From /usr/local/lib/python3.6/dist-packages/keras/backend/tensorflow_backend.py:3005: The name tf.Session is deprecated. Please use tf.compat.v1.Session instead.\n",
            "\n",
            "Train on 280 samples, validate on 70 samples\n",
            "Epoch 1/50\n",
            "WARNING:tensorflow:From /usr/local/lib/python3.6/dist-packages/keras/backend/tensorflow_backend.py:190: The name tf.get_default_session is deprecated. Please use tf.compat.v1.get_default_session instead.\n",
            "\n",
            "WARNING:tensorflow:From /usr/local/lib/python3.6/dist-packages/keras/backend/tensorflow_backend.py:197: The name tf.ConfigProto is deprecated. Please use tf.compat.v1.ConfigProto instead.\n",
            "\n",
            "WARNING:tensorflow:From /usr/local/lib/python3.6/dist-packages/keras/backend/tensorflow_backend.py:207: The name tf.global_variables is deprecated. Please use tf.compat.v1.global_variables instead.\n",
            "\n",
            "WARNING:tensorflow:From /usr/local/lib/python3.6/dist-packages/keras/backend/tensorflow_backend.py:216: The name tf.is_variable_initialized is deprecated. Please use tf.compat.v1.is_variable_initialized instead.\n",
            "\n",
            "WARNING:tensorflow:From /usr/local/lib/python3.6/dist-packages/keras/backend/tensorflow_backend.py:223: The name tf.variables_initializer is deprecated. Please use tf.compat.v1.variables_initializer instead.\n",
            "\n",
            "280/280 [==============================] - 5s 17ms/step - loss: 0.7084 - acc: 0.8821 - val_loss: 0.6624 - val_acc: 0.8286\n",
            "Epoch 2/50\n",
            "280/280 [==============================] - 1s 3ms/step - loss: 0.5766 - acc: 0.9464 - val_loss: 0.4730 - val_acc: 0.9857\n",
            "Epoch 3/50\n",
            "280/280 [==============================] - 1s 3ms/step - loss: 0.4632 - acc: 0.9750 - val_loss: 0.3461 - val_acc: 0.9857\n",
            "Epoch 4/50\n",
            "280/280 [==============================] - 1s 3ms/step - loss: 0.3516 - acc: 0.9750 - val_loss: 0.2373 - val_acc: 0.9857\n",
            "Epoch 5/50\n",
            "280/280 [==============================] - 1s 3ms/step - loss: 0.2385 - acc: 0.9750 - val_loss: 0.1329 - val_acc: 0.9857\n",
            "Epoch 6/50\n",
            "280/280 [==============================] - 1s 4ms/step - loss: 0.1393 - acc: 0.9750 - val_loss: 0.0831 - val_acc: 0.9857\n",
            "Epoch 7/50\n",
            "280/280 [==============================] - 1s 3ms/step - loss: 0.1157 - acc: 0.9750 - val_loss: 0.0843 - val_acc: 0.9857\n",
            "Epoch 8/50\n",
            "280/280 [==============================] - 1s 3ms/step - loss: 0.1129 - acc: 0.9750 - val_loss: 0.0836 - val_acc: 0.9857\n",
            "Epoch 9/50\n",
            "280/280 [==============================] - 1s 3ms/step - loss: 0.1110 - acc: 0.9750 - val_loss: 0.0824 - val_acc: 0.9857\n",
            "Epoch 10/50\n",
            "280/280 [==============================] - 1s 3ms/step - loss: 0.1090 - acc: 0.9750 - val_loss: 0.0843 - val_acc: 0.9857\n",
            "Epoch 11/50\n",
            "280/280 [==============================] - 1s 3ms/step - loss: 0.1078 - acc: 0.9750 - val_loss: 0.0845 - val_acc: 0.9857\n",
            "Epoch 12/50\n",
            "280/280 [==============================] - 1s 4ms/step - loss: 0.1078 - acc: 0.9750 - val_loss: 0.0849 - val_acc: 0.9857\n",
            "Epoch 13/50\n",
            "280/280 [==============================] - 1s 3ms/step - loss: 0.1074 - acc: 0.9750 - val_loss: 0.0846 - val_acc: 0.9857\n",
            "Epoch 14/50\n",
            "280/280 [==============================] - 1s 3ms/step - loss: 0.1074 - acc: 0.9750 - val_loss: 0.0863 - val_acc: 0.9857\n",
            "Epoch 15/50\n",
            "280/280 [==============================] - 1s 3ms/step - loss: 0.1070 - acc: 0.9750 - val_loss: 0.0862 - val_acc: 0.9857\n",
            "Epoch 16/50\n",
            "280/280 [==============================] - 1s 3ms/step - loss: 0.1072 - acc: 0.9750 - val_loss: 0.0855 - val_acc: 0.9857\n",
            "Epoch 17/50\n",
            "280/280 [==============================] - 1s 3ms/step - loss: 0.1068 - acc: 0.9750 - val_loss: 0.0866 - val_acc: 0.9857\n",
            "Epoch 18/50\n",
            "280/280 [==============================] - 1s 4ms/step - loss: 0.1070 - acc: 0.9750 - val_loss: 0.0866 - val_acc: 0.9857\n",
            "Epoch 19/50\n",
            "280/280 [==============================] - 1s 3ms/step - loss: 0.1066 - acc: 0.9750 - val_loss: 0.0870 - val_acc: 0.9857\n",
            "Epoch 20/50\n",
            "280/280 [==============================] - 1s 4ms/step - loss: 0.1067 - acc: 0.9750 - val_loss: 0.0861 - val_acc: 0.9857\n",
            "Epoch 21/50\n",
            "280/280 [==============================] - 1s 3ms/step - loss: 0.1068 - acc: 0.9750 - val_loss: 0.0870 - val_acc: 0.9857\n",
            "Epoch 22/50\n",
            "280/280 [==============================] - 1s 3ms/step - loss: 0.1084 - acc: 0.9750 - val_loss: 0.0861 - val_acc: 0.9857\n",
            "Epoch 23/50\n",
            "280/280 [==============================] - 1s 3ms/step - loss: 0.1064 - acc: 0.9750 - val_loss: 0.0867 - val_acc: 0.9857\n",
            "Epoch 24/50\n",
            "280/280 [==============================] - 1s 3ms/step - loss: 0.1066 - acc: 0.9750 - val_loss: 0.0880 - val_acc: 0.9857\n",
            "Epoch 25/50\n",
            "280/280 [==============================] - 1s 4ms/step - loss: 0.1067 - acc: 0.9750 - val_loss: 0.0860 - val_acc: 0.9857\n",
            "Epoch 26/50\n",
            "280/280 [==============================] - 1s 4ms/step - loss: 0.1065 - acc: 0.9750 - val_loss: 0.0872 - val_acc: 0.9857\n",
            "Epoch 27/50\n",
            "280/280 [==============================] - 1s 3ms/step - loss: 0.1062 - acc: 0.9750 - val_loss: 0.0874 - val_acc: 0.9857\n",
            "Epoch 28/50\n",
            "280/280 [==============================] - 1s 4ms/step - loss: 0.1062 - acc: 0.9750 - val_loss: 0.0867 - val_acc: 0.9857\n",
            "Epoch 29/50\n",
            "280/280 [==============================] - 1s 3ms/step - loss: 0.1058 - acc: 0.9750 - val_loss: 0.0866 - val_acc: 0.9857\n",
            "Epoch 30/50\n",
            "280/280 [==============================] - 1s 3ms/step - loss: 0.1064 - acc: 0.9750 - val_loss: 0.0840 - val_acc: 0.9857\n",
            "Epoch 31/50\n",
            "280/280 [==============================] - 1s 3ms/step - loss: 0.1061 - acc: 0.9750 - val_loss: 0.0853 - val_acc: 0.9857\n",
            "Epoch 32/50\n",
            "280/280 [==============================] - 1s 3ms/step - loss: 0.1061 - acc: 0.9750 - val_loss: 0.0847 - val_acc: 0.9857\n",
            "Epoch 33/50\n",
            "280/280 [==============================] - 1s 3ms/step - loss: 0.1058 - acc: 0.9750 - val_loss: 0.0841 - val_acc: 0.9857\n",
            "Epoch 34/50\n",
            "280/280 [==============================] - 1s 4ms/step - loss: 0.1057 - acc: 0.9750 - val_loss: 0.0844 - val_acc: 0.9857\n",
            "Epoch 35/50\n",
            "280/280 [==============================] - 1s 3ms/step - loss: 0.1051 - acc: 0.9750 - val_loss: 0.0837 - val_acc: 0.9857\n",
            "Epoch 36/50\n",
            "280/280 [==============================] - 1s 3ms/step - loss: 0.1049 - acc: 0.9750 - val_loss: 0.0836 - val_acc: 0.9857\n",
            "Epoch 37/50\n",
            "280/280 [==============================] - 1s 4ms/step - loss: 0.1054 - acc: 0.9750 - val_loss: 0.0844 - val_acc: 0.9857\n",
            "Epoch 38/50\n",
            "280/280 [==============================] - 1s 3ms/step - loss: 0.1046 - acc: 0.9750 - val_loss: 0.0839 - val_acc: 0.9857\n",
            "Epoch 39/50\n",
            "280/280 [==============================] - 1s 4ms/step - loss: 0.1043 - acc: 0.9750 - val_loss: 0.0844 - val_acc: 0.9857\n",
            "Epoch 40/50\n",
            "280/280 [==============================] - 1s 3ms/step - loss: 0.1043 - acc: 0.9750 - val_loss: 0.0832 - val_acc: 0.9857\n",
            "Epoch 41/50\n",
            "280/280 [==============================] - 1s 3ms/step - loss: 0.1036 - acc: 0.9750 - val_loss: 0.0835 - val_acc: 0.9857\n",
            "Epoch 42/50\n",
            "280/280 [==============================] - 1s 3ms/step - loss: 0.1030 - acc: 0.9750 - val_loss: 0.0836 - val_acc: 0.9857\n",
            "Epoch 43/50\n",
            "280/280 [==============================] - 1s 4ms/step - loss: 0.1026 - acc: 0.9750 - val_loss: 0.0812 - val_acc: 0.9857\n",
            "Epoch 44/50\n",
            "280/280 [==============================] - 1s 4ms/step - loss: 0.1023 - acc: 0.9750 - val_loss: 0.0811 - val_acc: 0.9857\n",
            "Epoch 45/50\n",
            "280/280 [==============================] - 1s 4ms/step - loss: 0.1009 - acc: 0.9750 - val_loss: 0.0801 - val_acc: 0.9857\n",
            "Epoch 46/50\n",
            "280/280 [==============================] - 1s 3ms/step - loss: 0.0999 - acc: 0.9750 - val_loss: 0.0777 - val_acc: 0.9857\n",
            "Epoch 47/50\n",
            "280/280 [==============================] - 1s 4ms/step - loss: 0.0971 - acc: 0.9750 - val_loss: 0.0746 - val_acc: 0.9857\n",
            "Epoch 48/50\n",
            "280/280 [==============================] - 1s 3ms/step - loss: 0.0954 - acc: 0.9750 - val_loss: 0.0701 - val_acc: 0.9857\n",
            "Epoch 49/50\n",
            "280/280 [==============================] - 1s 3ms/step - loss: 0.0924 - acc: 0.9750 - val_loss: 0.0651 - val_acc: 0.9857\n",
            "Epoch 50/50\n",
            "280/280 [==============================] - 1s 3ms/step - loss: 0.0865 - acc: 0.9750 - val_loss: 0.0602 - val_acc: 0.9857\n"
          ],
          "name": "stdout"
        }
      ]
    },
    {
      "cell_type": "code",
      "metadata": {
        "id": "Lo1MFzTM_sGu",
        "colab_type": "code",
        "colab": {
          "base_uri": "https://localhost:8080/",
          "height": 545
        },
        "outputId": "31028c75-4775-42e3-9aea-1846eafbd675"
      },
      "source": [
        "acc = train_model.history['acc']\n",
        "val_acc = train_model.history['val_acc']\n",
        "loss = train_model.history['loss']\n",
        "val_loss = train_model.history['val_loss']\n",
        "\n",
        "\n",
        "plt.plot(acc, label='Training acc')\n",
        "plt.plot(val_acc, label='Validation acc')\n",
        "plt.title('Training and validation accuracy')\n",
        "plt.legend()\n",
        "\n",
        "plt.figure()\n",
        "plt.plot(loss, label='Training loss')\n",
        "plt.plot(val_loss, label='Validation loss')\n",
        "plt.title('Training and validation loss')\n",
        "plt.legend()\n",
        "plt.show()"
      ],
      "execution_count": 122,
      "outputs": [
        {
          "output_type": "display_data",
          "data": {
            "image/png": "[encoded data removed]",
            "text/plain": [
              "<Figure size 432x288 with 1 Axes>"
            ]
          },
          "metadata": {
            "tags": []
          }
        },
        {
          "output_type": "display_data",
          "data": {
            "image/png": "[encoded data removed]",
            "text/plain": [
              "<Figure size 432x288 with 1 Axes>"
            ]
          },
          "metadata": {
            "tags": []
          }
        }
      ]
    },
    {
      "cell_type": "markdown",
      "metadata": {
        "id": "svgeG-mycOZ9",
        "colab_type": "text"
      },
      "source": [
        "## Model"
      ]
    },
    {
      "cell_type": "code",
      "metadata": {
        "id": "Jmxl77BED4sq",
        "colab_type": "code",
        "outputId": "b1b9f647-d549-4e08-b750-07a7599aaf87",
        "colab": {
          "base_uri": "https://localhost:8080/",
          "height": 52
        }
      },
      "source": [
        "from keras.utils import np_utils\n",
        "y = np_utils.to_categorical(y)\n",
        "y[0]"
      ],
      "execution_count": 0,
      "outputs": [
        {
          "output_type": "execute_result",
          "data": {
            "text/plain": [
              "array([[1., 0.],\n",
              "       [0., 1.]], dtype=float32)"
            ]
          },
          "metadata": {
            "tags": []
          },
          "execution_count": 130
        }
      ]
    },
    {
      "cell_type": "code",
      "metadata": {
        "id": "dCIw7zIijXvS",
        "colab_type": "code",
        "outputId": "67054133-32a4-42d1-f5f4-d45c1af302d3",
        "colab": {
          "base_uri": "https://localhost:8080/",
          "height": 35
        }
      },
      "source": [
        "X = np.reshape(X, (X.shape[0], X.shape[1], 1))\n",
        "print(X.shape,y.shape)"
      ],
      "execution_count": 0,
      "outputs": [
        {
          "output_type": "stream",
          "text": [
            "(350, 226, 1) (350, 2, 2)\n"
          ],
          "name": "stdout"
        }
      ]
    },
    {
      "cell_type": "code",
      "metadata": {
        "id": "XaTRoWdOlC7Y",
        "colab_type": "code",
        "colab": {}
      },
      "source": [
        "from sklearn.model_selection import train_test_split\n",
        "\n",
        "X_train, X_test, y_train, y_test = train_test_split(X,y,test_size=0.2)"
      ],
      "execution_count": 0,
      "outputs": []
    },
    {
      "cell_type": "code",
      "metadata": {
        "id": "nPAKJpwJJxk4",
        "colab_type": "code",
        "outputId": "8fa82703-d21a-4c02-b351-1ddb59534fce",
        "colab": {
          "base_uri": "https://localhost:8080/",
          "height": 35
        }
      },
      "source": [
        "print(X_train.shape,y_train.shape)"
      ],
      "execution_count": 0,
      "outputs": [
        {
          "output_type": "stream",
          "text": [
            "(280, 226, 1) (280, 2)\n"
          ],
          "name": "stdout"
        }
      ]
    },
    {
      "cell_type": "code",
      "metadata": {
        "id": "PKmwBWO4kcFI",
        "colab_type": "code",
        "outputId": "ce3f5a68-aed3-4c6b-e1e7-87b174ff0a00",
        "colab": {
          "base_uri": "https://localhost:8080/",
          "height": 399
        }
      },
      "source": [
        "from keras.models import Sequential\n",
        "from keras.layers import Dense, Dropout, LSTM\n",
        "\n",
        "model = Sequential()\n",
        "model.add(LSTM(50, input_shape=(X_train.shape[1:]), activation='relu', return_sequences=True))\n",
        "model.add(Dropout(0.5))\n",
        "\n",
        "model.add(LSTM(20, activation='relu'))\n",
        "model.add(Dropout(0.2))\n",
        "\n",
        "model.add(Dense(32, activation='relu'))\n",
        "model.add(Dropout(0.2))\n",
        "\n",
        "model.add(Dense(2, activation='softmax'))\n",
        "model.summary()"
      ],
      "execution_count": 0,
      "outputs": [
        {
          "output_type": "stream",
          "text": [
            "Model: \"sequential_7\"\n",
            "_________________________________________________________________\n",
            "Layer (type)                 Output Shape              Param #   \n",
            "=================================================================\n",
            "lstm_13 (LSTM)               (None, 226, 50)           10400     \n",
            "_________________________________________________________________\n",
            "dropout_19 (Dropout)         (None, 226, 50)           0         \n",
            "_________________________________________________________________\n",
            "lstm_14 (LSTM)               (None, 20)                5680      \n",
            "_________________________________________________________________\n",
            "dropout_20 (Dropout)         (None, 20)                0         \n",
            "_________________________________________________________________\n",
            "dense_13 (Dense)             (None, 32)                672       \n",
            "_________________________________________________________________\n",
            "dropout_21 (Dropout)         (None, 32)                0         \n",
            "_________________________________________________________________\n",
            "dense_14 (Dense)             (None, 2)                 66        \n",
            "=================================================================\n",
            "Total params: 16,818\n",
            "Trainable params: 16,818\n",
            "Non-trainable params: 0\n",
            "_________________________________________________________________\n"
          ],
          "name": "stdout"
        }
      ]
    },
    {
      "cell_type": "code",
      "metadata": {
        "id": "y9pm0I5Fl-Ct",
        "colab_type": "code",
        "outputId": "c961b57f-364a-4133-cbd5-50bbc71c5d65",
        "colab": {
          "base_uri": "https://localhost:8080/",
          "height": 1000
        }
      },
      "source": [
        "from sklearn.utils.class_weight import compute_class_weight\n",
        "\n",
        "y_int = np.argmax(y_train,axis=1)\n",
        "class_weight = compute_class_weight('balanced',np.unique(y_int),y_int)\n",
        "\n",
        "# class_weight = {0: 1.,\n",
        "#                 1: 20.}\n",
        "model.compile(loss='categorical_crossentropy',optimizer='adam',metrics=['accuracy'],)\n",
        "train_model = model.fit(X_train,y_train,epochs=50, validation_split=0.3, class_weight=class_weight)"
      ],
      "execution_count": 0,
      "outputs": [
        {
          "output_type": "stream",
          "text": [
            "Train on 196 samples, validate on 84 samples\n",
            "Epoch 1/50\n",
            "196/196 [==============================] - 7s 33ms/step - loss: 8.1448 - acc: 0.4949 - val_loss: 5.5810 - val_acc: 0.6548\n",
            "Epoch 2/50\n",
            "196/196 [==============================] - 2s 11ms/step - loss: 7.1829 - acc: 0.5459 - val_loss: 9.0185 - val_acc: 0.4405\n",
            "Epoch 3/50\n",
            "196/196 [==============================] - 2s 11ms/step - loss: 7.9189 - acc: 0.5102 - val_loss: 11.5129 - val_acc: 0.2857\n",
            "Epoch 4/50\n",
            "196/196 [==============================] - 2s 11ms/step - loss: 7.1281 - acc: 0.5561 - val_loss: 7.2915 - val_acc: 0.5476\n",
            "Epoch 5/50\n",
            "196/196 [==============================] - 2s 11ms/step - loss: 7.1918 - acc: 0.5561 - val_loss: 7.8672 - val_acc: 0.5119\n",
            "Epoch 6/50\n",
            "196/196 [==============================] - 2s 11ms/step - loss: 8.3259 - acc: 0.4847 - val_loss: 6.9078 - val_acc: 0.5714\n",
            "Epoch 7/50\n",
            "196/196 [==============================] - 2s 11ms/step - loss: 6.8685 - acc: 0.5765 - val_loss: 6.9078 - val_acc: 0.5714\n",
            "Epoch 8/50\n",
            "196/196 [==============================] - 2s 11ms/step - loss: 6.9381 - acc: 0.5714 - val_loss: 7.2990 - val_acc: 0.5476\n",
            "Epoch 9/50\n",
            "196/196 [==============================] - 2s 11ms/step - loss: 7.1506 - acc: 0.5510 - val_loss: 4.6052 - val_acc: 0.7143\n",
            "Epoch 10/50\n",
            "196/196 [==============================] - 2s 11ms/step - loss: 5.9948 - acc: 0.6173 - val_loss: 5.3787 - val_acc: 0.6667\n",
            "Epoch 11/50\n",
            "196/196 [==============================] - 2s 11ms/step - loss: 6.5308 - acc: 0.5918 - val_loss: 3.7929 - val_acc: 0.7619\n",
            "Epoch 12/50\n",
            "196/196 [==============================] - 2s 11ms/step - loss: 5.1982 - acc: 0.6735 - val_loss: 1.5485 - val_acc: 0.9048\n",
            "Epoch 13/50\n",
            "196/196 [==============================] - 2s 12ms/step - loss: 3.8819 - acc: 0.7602 - val_loss: 1.1513 - val_acc: 0.9286\n",
            "Epoch 14/50\n",
            "196/196 [==============================] - 2s 12ms/step - loss: 3.2321 - acc: 0.8010 - val_loss: 0.7675 - val_acc: 0.9524\n",
            "Epoch 15/50\n",
            "196/196 [==============================] - 2s 11ms/step - loss: 3.2291 - acc: 0.8010 - val_loss: 1.5351 - val_acc: 0.9048\n",
            "Epoch 16/50\n",
            "196/196 [==============================] - 2s 11ms/step - loss: 2.9919 - acc: 0.8112 - val_loss: 0.9594 - val_acc: 0.9405\n",
            "Epoch 17/50\n",
            "196/196 [==============================] - 2s 12ms/step - loss: 3.7881 - acc: 0.7653 - val_loss: 1.1573 - val_acc: 0.9286\n",
            "Epoch 18/50\n",
            "196/196 [==============================] - 2s 11ms/step - loss: 2.9887 - acc: 0.8163 - val_loss: 1.5351 - val_acc: 0.9048\n",
            "Epoch 19/50\n",
            "196/196 [==============================] - 2s 11ms/step - loss: 3.3021 - acc: 0.7959 - val_loss: 1.1571 - val_acc: 0.9286\n",
            "Epoch 20/50\n",
            "196/196 [==============================] - 2s 11ms/step - loss: 2.8882 - acc: 0.8214 - val_loss: 2.4945 - val_acc: 0.8452\n",
            "Epoch 21/50\n",
            "196/196 [==============================] - 2s 11ms/step - loss: 3.2245 - acc: 0.8010 - val_loss: 1.5351 - val_acc: 0.9048\n",
            "Epoch 22/50\n",
            "196/196 [==============================] - 2s 11ms/step - loss: 3.2123 - acc: 0.8010 - val_loss: 1.7269 - val_acc: 0.8929\n",
            "Epoch 23/50\n",
            "196/196 [==============================] - 2s 11ms/step - loss: 2.3994 - acc: 0.8520 - val_loss: 0.9594 - val_acc: 0.9405\n",
            "Epoch 24/50\n",
            "196/196 [==============================] - 2s 11ms/step - loss: 3.5849 - acc: 0.7755 - val_loss: 1.3432 - val_acc: 0.9167\n",
            "Epoch 25/50\n",
            "196/196 [==============================] - 2s 11ms/step - loss: 3.2211 - acc: 0.8010 - val_loss: 1.3486 - val_acc: 0.9167\n",
            "Epoch 26/50\n",
            "196/196 [==============================] - 2s 11ms/step - loss: 2.8050 - acc: 0.8265 - val_loss: 0.7796 - val_acc: 0.9405\n",
            "Epoch 27/50\n",
            "196/196 [==============================] - 2s 11ms/step - loss: 2.1496 - acc: 0.8673 - val_loss: 0.9594 - val_acc: 0.9405\n",
            "Epoch 28/50\n",
            "196/196 [==============================] - 2s 11ms/step - loss: 3.3884 - acc: 0.7908 - val_loss: 0.7675 - val_acc: 0.9524\n",
            "Epoch 29/50\n",
            "196/196 [==============================] - 2s 11ms/step - loss: 3.4670 - acc: 0.7857 - val_loss: 0.9594 - val_acc: 0.9405\n",
            "Epoch 30/50\n",
            "196/196 [==============================] - 2s 11ms/step - loss: 3.0513 - acc: 0.8112 - val_loss: 0.7675 - val_acc: 0.9524\n",
            "Epoch 31/50\n",
            "196/196 [==============================] - 2s 11ms/step - loss: nan - acc: 0.9337 - val_loss: nan - val_acc: 0.9524\n",
            "Epoch 32/50\n",
            "196/196 [==============================] - 2s 11ms/step - loss: nan - acc: 0.9847 - val_loss: nan - val_acc: 0.9524\n",
            "Epoch 33/50\n",
            "196/196 [==============================] - 2s 11ms/step - loss: nan - acc: 0.9847 - val_loss: nan - val_acc: 0.9524\n",
            "Epoch 34/50\n",
            "196/196 [==============================] - 2s 12ms/step - loss: nan - acc: 0.9847 - val_loss: nan - val_acc: 0.9524\n",
            "Epoch 35/50\n",
            "196/196 [==============================] - 2s 12ms/step - loss: nan - acc: 0.9847 - val_loss: nan - val_acc: 0.9524\n",
            "Epoch 36/50\n",
            "196/196 [==============================] - 2s 12ms/step - loss: nan - acc: 0.9847 - val_loss: nan - val_acc: 0.9524\n",
            "Epoch 37/50\n",
            "196/196 [==============================] - 2s 12ms/step - loss: nan - acc: 0.9847 - val_loss: nan - val_acc: 0.9524\n",
            "Epoch 38/50\n",
            "196/196 [==============================] - 2s 12ms/step - loss: nan - acc: 0.9847 - val_loss: nan - val_acc: 0.9524\n",
            "Epoch 39/50\n",
            "196/196 [==============================] - 2s 12ms/step - loss: nan - acc: 0.9847 - val_loss: nan - val_acc: 0.9524\n",
            "Epoch 40/50\n",
            "196/196 [==============================] - 2s 12ms/step - loss: nan - acc: 0.9847 - val_loss: nan - val_acc: 0.9524\n",
            "Epoch 41/50\n",
            "196/196 [==============================] - 2s 12ms/step - loss: nan - acc: 0.9847 - val_loss: nan - val_acc: 0.9524\n",
            "Epoch 42/50\n",
            "196/196 [==============================] - 2s 12ms/step - loss: nan - acc: 0.9847 - val_loss: nan - val_acc: 0.9524\n",
            "Epoch 43/50\n",
            "196/196 [==============================] - 2s 12ms/step - loss: nan - acc: 0.9847 - val_loss: nan - val_acc: 0.9524\n",
            "Epoch 44/50\n",
            "196/196 [==============================] - 2s 12ms/step - loss: nan - acc: 0.9847 - val_loss: nan - val_acc: 0.9524\n",
            "Epoch 45/50\n",
            "196/196 [==============================] - 2s 12ms/step - loss: nan - acc: 0.9847 - val_loss: nan - val_acc: 0.9524\n",
            "Epoch 46/50\n",
            "196/196 [==============================] - 2s 12ms/step - loss: nan - acc: 0.9847 - val_loss: nan - val_acc: 0.9524\n",
            "Epoch 47/50\n",
            "196/196 [==============================] - 2s 12ms/step - loss: nan - acc: 0.9847 - val_loss: nan - val_acc: 0.9524\n",
            "Epoch 48/50\n",
            "196/196 [==============================] - 2s 12ms/step - loss: nan - acc: 0.9847 - val_loss: nan - val_acc: 0.9524\n",
            "Epoch 49/50\n",
            "196/196 [==============================] - 2s 12ms/step - loss: nan - acc: 0.9847 - val_loss: nan - val_acc: 0.9524\n",
            "Epoch 50/50\n",
            "196/196 [==============================] - 2s 12ms/step - loss: nan - acc: 0.9847 - val_loss: nan - val_acc: 0.9524\n"
          ],
          "name": "stdout"
        }
      ]
    },
    {
      "cell_type": "code",
      "metadata": {
        "id": "5ESq4y_uoG38",
        "colab_type": "code",
        "outputId": "bf61a89b-7946-4578-9a0a-0d05eb3b47cb",
        "colab": {
          "base_uri": "https://localhost:8080/",
          "height": 545
        }
      },
      "source": [
        "acc = train_model.history['acc']\n",
        "val_acc = train_model.history['val_acc']\n",
        "loss = train_model.history['loss']\n",
        "val_loss = train_model.history['val_loss']\n",
        "\n",
        "\n",
        "plt.plot(acc, label='Training acc')\n",
        "plt.plot(val_acc, label='Validation acc')\n",
        "plt.title('Training and validation accuracy')\n",
        "plt.legend()\n",
        "\n",
        "plt.figure()\n",
        "plt.plot(loss, label='Training loss')\n",
        "plt.plot(val_loss, label='Validation loss')\n",
        "plt.title('Training and validation loss')\n",
        "plt.legend()\n",
        "plt.show()"
      ],
      "execution_count": 0,
      "outputs": [
        {
          "output_type": "display_data",
          "data": {
            "image/png": "[encoded data removed]",
            "text/plain": [
              "<Figure size 432x288 with 1 Axes>"
            ]
          },
          "metadata": {
            "tags": []
          }
        },
        {
          "output_type": "display_data",
          "data": {
            "image/png": "[encoded data removed]",
            "text/plain": [
              "<Figure size 432x288 with 1 Axes>"
            ]
          },
          "metadata": {
            "tags": []
          }
        }
      ]
    },
    {
      "cell_type": "markdown",
      "metadata": {
        "id": "OBsGXNqNx1_X",
        "colab_type": "text"
      },
      "source": [
        "## Predicted"
      ]
    },
    {
      "cell_type": "code",
      "metadata": {
        "id": "hi4EIQkwKpBs",
        "colab_type": "code",
        "colab": {}
      },
      "source": [
        "for key in time_series.keys():\n",
        "  print(key)"
      ],
      "execution_count": 0,
      "outputs": []
    },
    {
      "cell_type": "code",
      "metadata": {
        "id": "tBcAbdc9bL6g",
        "colab_type": "code",
        "colab": {}
      },
      "source": [
        "y_pred = model.predict_classes(X)"
      ],
      "execution_count": 0,
      "outputs": []
    },
    {
      "cell_type": "code",
      "metadata": {
        "id": "CzYAE2G9Ldvp",
        "colab_type": "code",
        "outputId": "bea2e2c1-44f7-4ffd-a8f8-ab48aba7a157",
        "colab": {
          "base_uri": "https://localhost:8080/",
          "height": 364
        }
      },
      "source": [
        "def print_output(y):\n",
        "  for i in range(len(y)):\n",
        "    print(y[i],end=' ')\n",
        "    if((i+1)%5 == 0):\n",
        "      print('\\n')\n",
        "print_output(y_pred)"
      ],
      "execution_count": 0,
      "outputs": [
        {
          "output_type": "stream",
          "text": [
            "0 1 0 0 0 \n",
            "\n",
            "0 0 0 0 0 \n",
            "\n",
            "0 0 0 0 0 \n",
            "\n",
            "1 0 0 0 0 \n",
            "\n",
            "0 0 0 0 0 \n",
            "\n",
            "0 0 1 0 0 \n",
            "\n",
            "0 0 0 0 0 \n",
            "\n",
            "0 0 0 1 0 \n",
            "\n",
            "0 0 0 0 0 \n",
            "\n",
            "0 0 0 0 0 \n",
            "\n"
          ],
          "name": "stdout"
        }
      ]
    },
    {
      "cell_type": "code",
      "metadata": {
        "id": "73RTl_PPLfDN",
        "colab_type": "code",
        "colab": {}
      },
      "source": [
        "rect = []\n",
        "series = dict()\n",
        "\n",
        "START_X = 70\n",
        "START_Y = 15\n",
        "WIDTH = 40\n",
        "HEIGHT = 55\n",
        "DELTA_X = 51\n",
        "DELTA_Y = 70\n",
        "pos = ['A','B','C','D','E']\n",
        "\n",
        "def draw_rect(img,time_series):\n",
        "  for i in range(10):\n",
        "    for j in range(5):\n",
        "      x = START_X+(DELTA_X*i)\n",
        "      y = START_Y+(DELTA_Y*j)\n",
        "\n",
        "      cv.rectangle(img,(x,y),(x+WIDTH,y+HEIGHT),(0,255,0),1)j\n",
        "for i in range(len(clean_data)):\n",
        "  print('.',end='')\n",
        "  tmp = np.array(clean_data[i])\n",
        "  # tmp = np.array(data[i])\n",
        "  draw_rect(tmp,series)\n",
        "  rect.append(tmp)\n",
        "plot_img(rect[0])"
      ],
      "execution_count": 0,
      "outputs": []
    },
    {
      "cell_type": "code",
      "metadata": {
        "id": "jEc3cvLHLlHE",
        "colab_type": "code",
        "outputId": "b42f4cdc-e4d7-4994-c651-6ec60f4681ff",
        "colab": {
          "base_uri": "https://localhost:8080/",
          "height": 35
        }
      },
      "source": [
        "np.unique(y_train)"
      ],
      "execution_count": 0,
      "outputs": [
        {
          "output_type": "execute_result",
          "data": {
            "text/plain": [
              "array([0., 1.], dtype=float32)"
            ]
          },
          "metadata": {
            "tags": []
          },
          "execution_count": 88
        }
      ]
    },
    {
      "cell_type": "code",
      "metadata": {
        "id": "aeNYnOfQLnVl",
        "colab_type": "code",
        "colab": {}
      },
      "source": [
        ""
      ],
      "execution_count": 0,
      "outputs": []
    }
  ]
}