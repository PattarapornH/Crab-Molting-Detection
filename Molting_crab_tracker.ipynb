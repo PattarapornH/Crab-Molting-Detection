{
  "nbformat": 4,
  "nbformat_minor": 0,
  "metadata": {
    "colab": {
      "name": "Molting crab tracker.ipynb",
      "provenance": [],
      "collapsed_sections": [],
      "include_colab_link": true
    },
    "kernelspec": {
      "name": "python3",
      "display_name": "Python 3"
    }
  },
  "cells": [
    {
      "cell_type": "markdown",
      "metadata": {
        "id": "view-in-github",
        "colab_type": "text"
      },
      "source": [
        "<a href=\"https://colab.research.google.com/github/PattarapornH/Crab-Molting-Detection/blob/master/Molting_crab_tracker.ipynb\" target=\"_parent\"><img src=\"https://colab.research.google.com/assets/colab-badge.svg\" alt=\"Open In Colab\"/></a>"
      ]
    },
    {
      "cell_type": "code",
      "metadata": {
        "id": "ExIpH9vQIG4A",
        "colab_type": "code",
        "colab": {}
      },
      "source": [
        "import os\n",
        "import numpy as np\n",
        "import pandas as pd\n",
        "import matplotlib.pyplot as plt\n",
        "%matplotlib inline"
      ],
      "execution_count": 0,
      "outputs": []
    },
    {
      "cell_type": "code",
      "metadata": {
        "id": "lnY6BRvlIZcO",
        "colab_type": "code",
        "outputId": "5c8a88aa-1477-4843-bc30-2fa9f1750625",
        "colab": {
          "base_uri": "https://localhost:8080/",
          "height": 124
        }
      },
      "source": [
        "from google.colab import drive\n",
        "drive.mount('/content/gdrive',force_remount=True)"
      ],
      "execution_count": 0,
      "outputs": [
        {
          "output_type": "stream",
          "text": [
            "Go to this URL in a browser: https://accounts.google.com/o/oauth2/auth?client_id=947318989803-6bn6qk8qdgf4n4g3pfee6491hc0brc4i.apps.googleusercontent.com&redirect_uri=urn%3aietf%3awg%3aoauth%3a2.0%3aoob&response_type=code&scope=email%20https%3a%2f%2fwww.googleapis.com%2fauth%2fdocs.test%20https%3a%2f%2fwww.googleapis.com%2fauth%2fdrive%20https%3a%2f%2fwww.googleapis.com%2fauth%2fdrive.photos.readonly%20https%3a%2f%2fwww.googleapis.com%2fauth%2fpeopleapi.readonly\n",
            "\n",
            "Enter your authorization code:\n",
            "··········\n",
            "Mounted at /content/gdrive\n"
          ],
          "name": "stdout"
        }
      ]
    },
    {
      "cell_type": "code",
      "metadata": {
        "id": "TZD5CK6p-CBH",
        "colab_type": "code",
        "outputId": "6315ca3e-9d9c-40f6-a43d-9926dd9700ed",
        "colab": {
          "base_uri": "https://localhost:8080/",
          "height": 35
        }
      },
      "source": [
        "%cd 'gdrive/My Drive/Year4/Project/'"
      ],
      "execution_count": 0,
      "outputs": [
        {
          "output_type": "stream",
          "text": [
            "/content/gdrive/My Drive/Year4/Project\n"
          ],
          "name": "stdout"
        }
      ]
    },
    {
      "cell_type": "code",
      "metadata": {
        "id": "R0jisUtrF9jg",
        "colab_type": "code",
        "outputId": "8dffc807-6a28-4c61-951f-930901ae2008",
        "colab": {
          "base_uri": "https://localhost:8080/",
          "height": 173
        }
      },
      "source": [
        "import sys\n",
        "sys.path"
      ],
      "execution_count": 0,
      "outputs": [
        {
          "output_type": "execute_result",
          "data": {
            "text/plain": [
              "['',\n",
              " '/env/python',\n",
              " '/usr/lib/python36.zip',\n",
              " '/usr/lib/python3.6',\n",
              " '/usr/lib/python3.6/lib-dynload',\n",
              " '/usr/local/lib/python3.6/dist-packages',\n",
              " '/usr/lib/python3/dist-packages',\n",
              " '/usr/local/lib/python3.6/dist-packages/IPython/extensions',\n",
              " '/root/.ipython']"
            ]
          },
          "metadata": {
            "tags": []
          },
          "execution_count": 4
        }
      ]
    },
    {
      "cell_type": "code",
      "metadata": {
        "id": "zJRXAiUG-Oaw",
        "colab_type": "code",
        "colab": {}
      },
      "source": [
        "sys.path.append('/content/gdrive/My Drive/Year4/Project/local_modules')"
      ],
      "execution_count": 0,
      "outputs": []
    },
    {
      "cell_type": "code",
      "metadata": {
        "id": "oMLpOckZiIbq",
        "colab_type": "code",
        "colab": {}
      },
      "source": [
        "case = ['Case1_2018_12_29_Camera1_Coor(1_1)','Case2_2018_12_30_Camera1_Coor(4_8)','Case4_2019_01_07_Camera2_Coor(1_4)',\n",
        "        'Case6_2019_01_12_Camera2_Coor(4_9)','Case8_2018_10_10_Coor(5_4)','Case9_2018_10_05_Coor(1_4_3_6)','Case10_2018_09_29_Coor(5_2)']\n",
        "\n",
        "rect_val = [(80,15,38,55,12,15),(80,15,38,55,12,15),(70,15,38,55,11,15),(70,15,38,55,11,15),(70,15,38,55,11,15),\n",
        "            (70,15,40,55,11,15),(70,15,40,55,11,15)]"
      ],
      "execution_count": 0,
      "outputs": []
    },
    {
      "cell_type": "code",
      "metadata": {
        "id": "ljsYQwqujBEH",
        "colab_type": "code",
        "outputId": "7bcfff21-b9bc-46b1-dda1-64182c308a4e",
        "colab": {
          "base_uri": "https://localhost:8080/",
          "height": 69
        }
      },
      "source": [
        "from preprocess import prep\n",
        "pre = prep()\n",
        "time1 = dict()\n",
        "time1 = pre.get_time_series(case[-1],rect_val[-1])"
      ],
      "execution_count": 0,
      "outputs": [
        {
          "output_type": "stream",
          "text": [
            "getting...\n",
            "['21-20-05.png', '21-20-15.png', '21-20-25.png', '21-20-35.png', '21-20-45.png']\n",
            ".............................................................Case10_2018_09_29_Coor(5_2) complete\n"
          ],
          "name": "stdout"
        }
      ]
    },
    {
      "cell_type": "code",
      "metadata": {
        "id": "cvoGcfBeEil-",
        "colab_type": "code",
        "outputId": "6ea97475-365e-4ee1-8b81-1af673c17056",
        "colab": {
          "base_uri": "https://localhost:8080/",
          "height": 191
        }
      },
      "source": [
        "os.listdir('/content/gdrive/My Drive/Year4/Project/top_view')"
      ],
      "execution_count": 0,
      "outputs": [
        {
          "output_type": "execute_result",
          "data": {
            "text/plain": [
              "['Case7_2018_10_02_Coor(5_9)',\n",
              " 'Case10_2018_09_29_Coor(5_2)',\n",
              " 'Case9_2018_10_05_Coor(1_4_3_6)',\n",
              " 'Case1_2018_12_29_Camera1_Coor(1_1)',\n",
              " 'Case5_2019_01_07_Camera1_Coor(1_8)',\n",
              " 'Case4_2019_01_07_Camera2_Coor(1_4)',\n",
              " 'Case3_2019_01_06_Camera2_Coor(3_2)',\n",
              " 'Case2_2018_12_30_Camera1_Coor(4_8)',\n",
              " 'Case6_2019_01_12_Camera2_Coor(4_9)',\n",
              " 'Case8_2018_10_10_Coor(5_4)']"
            ]
          },
          "metadata": {
            "tags": []
          },
          "execution_count": 7
        }
      ]
    },
    {
      "cell_type": "code",
      "metadata": {
        "id": "QjWhmkVkCH8P",
        "colab_type": "code",
        "colab": {}
      },
      "source": [
        "time1['A1'][0]"
      ],
      "execution_count": 0,
      "outputs": []
    },
    {
      "cell_type": "code",
      "metadata": {
        "id": "Wi0wG5an_N-G",
        "colab_type": "code",
        "outputId": "d6be1a58-ffaa-4f14-9088-552fe60115a7",
        "colab": {
          "base_uri": "https://localhost:8080/",
          "height": 391
        }
      },
      "source": [
        "plt.figure(figsize=(10,6))\n",
        "plt.plot(time1['A1'][0],label='A1')\n",
        "plt.plot(time1['C6'][0],label='C6')\n",
        "plt.plot(time1['D9'][0],label='D9')\n",
        "plt.plot(time1['A4'][0],label='A4')\n",
        "plt.plot(time1['E2'][0],label='E2')\n",
        "\n",
        "plt.legend()\n"
      ],
      "execution_count": 0,
      "outputs": [
        {
          "output_type": "execute_result",
          "data": {
            "text/plain": [
              "<matplotlib.legend.Legend at 0x7f1f0ae7f080>"
            ]
          },
          "metadata": {
            "tags": []
          },
          "execution_count": 12
        },
        {
          "output_type": "display_data",
          "data": {
            "image/png": "[encoded data removed]",
            "text/plain": [
              "<Figure size 720x432 with 1 Axes>"
            ]
          },
          "metadata": {
            "tags": []
          }
        }
      ]
    },
    {
      "cell_type": "markdown",
      "metadata": {
        "id": "cFSHLM7xcKal",
        "colab_type": "text"
      },
      "source": [
        "## Label"
      ]
    },
    {
      "cell_type": "code",
      "metadata": {
        "id": "LM7z8Dqwg6Gh",
        "colab_type": "code",
        "colab": {}
      },
      "source": [
        "X = []\n",
        "y = []"
      ],
      "execution_count": 0,
      "outputs": []
    },
    {
      "cell_type": "code",
      "metadata": {
        "id": "sHm2kMSageOd",
        "colab_type": "code",
        "colab": {}
      },
      "source": [
        "from sklearn.preprocessing import normalize\n",
        "from sklearn.preprocessing import StandardScaler\n",
        "\n",
        "for key in time_series.keys():\n",
        "  # tmp = np.array(time_series[key]).reshape(-1,1)\n",
        "  # norm = StandardScaler().fit_transform(tmp)\n",
        "  # X.append(norm)\n",
        "  # tmp = time_series[key]\n",
        "  # print(len(tmp))\n",
        "  X.append(time_series[key])\n",
        "  if(key == 'E2'):\n",
        "    y.append(1)\n",
        "  else:\n",
        "    y.append(0)"
      ],
      "execution_count": 0,
      "outputs": []
    },
    {
      "cell_type": "code",
      "metadata": {
        "id": "zYWfdESyr7IY",
        "colab_type": "code",
        "colab": {}
      },
      "source": [
        "# padding\n",
        "from keras.preprocessing.sequence import pad_sequences\n",
        "\n",
        "X_pad = []\n",
        "max_len = -1\n",
        "for x in X:\n",
        "  # print(len(x))\n",
        "  if(max_len < len(x)):\n",
        "    max_len = len(x)\n",
        "\n",
        "# for x in X:\n",
        "  # if(len(x) < max_len):\n",
        "X = pad_sequences(X,padding='post',maxlen = max_len, value=0)\n",
        "# print(tmp)\n",
        "# print(tmp.shape)"
      ],
      "execution_count": 0,
      "outputs": []
    },
    {
      "cell_type": "code",
      "metadata": {
        "id": "hZ8X4XzHnw9X",
        "colab_type": "code",
        "colab": {}
      },
      "source": [
        "X = np.array(X)\n",
        "y = np.array(y)"
      ],
      "execution_count": 0,
      "outputs": []
    },
    {
      "cell_type": "code",
      "metadata": {
        "id": "E_lSmE0YcE3Y",
        "colab_type": "code",
        "outputId": "b4dd4c70-22b6-4ad2-fce1-9d2d4ddaadfc",
        "colab": {
          "base_uri": "https://localhost:8080/",
          "height": 35
        }
      },
      "source": [
        "print(X.shape,y.shape)"
      ],
      "execution_count": 0,
      "outputs": [
        {
          "output_type": "stream",
          "text": [
            "(350, 226, 1) (350, 2, 2)\n"
          ],
          "name": "stdout"
        }
      ]
    },
    {
      "cell_type": "markdown",
      "metadata": {
        "id": "svgeG-mycOZ9",
        "colab_type": "text"
      },
      "source": [
        "## Model"
      ]
    },
    {
      "cell_type": "code",
      "metadata": {
        "id": "Jmxl77BED4sq",
        "colab_type": "code",
        "outputId": "b1b9f647-d549-4e08-b750-07a7599aaf87",
        "colab": {
          "base_uri": "https://localhost:8080/",
          "height": 52
        }
      },
      "source": [
        "from keras.utils import np_utils\n",
        "y = np_utils.to_categorical(y)\n",
        "y[0]"
      ],
      "execution_count": 0,
      "outputs": [
        {
          "output_type": "execute_result",
          "data": {
            "text/plain": [
              "array([[1., 0.],\n",
              "       [0., 1.]], dtype=float32)"
            ]
          },
          "metadata": {
            "tags": []
          },
          "execution_count": 130
        }
      ]
    },
    {
      "cell_type": "code",
      "metadata": {
        "id": "dCIw7zIijXvS",
        "colab_type": "code",
        "outputId": "67054133-32a4-42d1-f5f4-d45c1af302d3",
        "colab": {
          "base_uri": "https://localhost:8080/",
          "height": 35
        }
      },
      "source": [
        "X = np.reshape(X, (X.shape[0], X.shape[1], 1))\n",
        "print(X.shape,y.shape)"
      ],
      "execution_count": 0,
      "outputs": [
        {
          "output_type": "stream",
          "text": [
            "(350, 226, 1) (350, 2, 2)\n"
          ],
          "name": "stdout"
        }
      ]
    },
    {
      "cell_type": "code",
      "metadata": {
        "id": "XaTRoWdOlC7Y",
        "colab_type": "code",
        "colab": {}
      },
      "source": [
        "from sklearn.model_selection import train_test_split\n",
        "\n",
        "X_train, X_test, y_train, y_test = train_test_split(X,y,test_size=0.2)"
      ],
      "execution_count": 0,
      "outputs": []
    },
    {
      "cell_type": "code",
      "metadata": {
        "id": "nPAKJpwJJxk4",
        "colab_type": "code",
        "outputId": "8fa82703-d21a-4c02-b351-1ddb59534fce",
        "colab": {
          "base_uri": "https://localhost:8080/",
          "height": 35
        }
      },
      "source": [
        "print(X_train.shape,y_train.shape)"
      ],
      "execution_count": 0,
      "outputs": [
        {
          "output_type": "stream",
          "text": [
            "(280, 226, 1) (280, 2)\n"
          ],
          "name": "stdout"
        }
      ]
    },
    {
      "cell_type": "code",
      "metadata": {
        "id": "PKmwBWO4kcFI",
        "colab_type": "code",
        "outputId": "ce3f5a68-aed3-4c6b-e1e7-87b174ff0a00",
        "colab": {
          "base_uri": "https://localhost:8080/",
          "height": 399
        }
      },
      "source": [
        "from keras.models import Sequential\n",
        "from keras.layers import Dense, Dropout, LSTM\n",
        "\n",
        "model = Sequential()\n",
        "model.add(LSTM(50, input_shape=(X_train.shape[1:]), activation='relu', return_sequences=True))\n",
        "model.add(Dropout(0.5))\n",
        "\n",
        "model.add(LSTM(20, activation='relu'))\n",
        "model.add(Dropout(0.2))\n",
        "\n",
        "model.add(Dense(32, activation='relu'))\n",
        "model.add(Dropout(0.2))\n",
        "\n",
        "model.add(Dense(2, activation='softmax'))\n",
        "model.summary()"
      ],
      "execution_count": 0,
      "outputs": [
        {
          "output_type": "stream",
          "text": [
            "Model: \"sequential_7\"\n",
            "_________________________________________________________________\n",
            "Layer (type)                 Output Shape              Param #   \n",
            "=================================================================\n",
            "lstm_13 (LSTM)               (None, 226, 50)           10400     \n",
            "_________________________________________________________________\n",
            "dropout_19 (Dropout)         (None, 226, 50)           0         \n",
            "_________________________________________________________________\n",
            "lstm_14 (LSTM)               (None, 20)                5680      \n",
            "_________________________________________________________________\n",
            "dropout_20 (Dropout)         (None, 20)                0         \n",
            "_________________________________________________________________\n",
            "dense_13 (Dense)             (None, 32)                672       \n",
            "_________________________________________________________________\n",
            "dropout_21 (Dropout)         (None, 32)                0         \n",
            "_________________________________________________________________\n",
            "dense_14 (Dense)             (None, 2)                 66        \n",
            "=================================================================\n",
            "Total params: 16,818\n",
            "Trainable params: 16,818\n",
            "Non-trainable params: 0\n",
            "_________________________________________________________________\n"
          ],
          "name": "stdout"
        }
      ]
    },
    {
      "cell_type": "code",
      "metadata": {
        "id": "y9pm0I5Fl-Ct",
        "colab_type": "code",
        "outputId": "c961b57f-364a-4133-cbd5-50bbc71c5d65",
        "colab": {
          "base_uri": "https://localhost:8080/",
          "height": 1000
        }
      },
      "source": [
        "from sklearn.utils.class_weight import compute_class_weight\n",
        "\n",
        "y_int = np.argmax(y_train,axis=1)\n",
        "class_weight = compute_class_weight('balanced',np.unique(y_int),y_int)\n",
        "\n",
        "# class_weight = {0: 1.,\n",
        "#                 1: 20.}\n",
        "model.compile(loss='categorical_crossentropy',optimizer='adam',metrics=['accuracy'],)\n",
        "train_model = model.fit(X_train,y_train,epochs=50, validation_split=0.3, class_weight=class_weight)"
      ],
      "execution_count": 0,
      "outputs": [
        {
          "output_type": "stream",
          "text": [
            "Train on 196 samples, validate on 84 samples\n",
            "Epoch 1/50\n",
            "196/196 [==============================] - 7s 33ms/step - loss: 8.1448 - acc: 0.4949 - val_loss: 5.5810 - val_acc: 0.6548\n",
            "Epoch 2/50\n",
            "196/196 [==============================] - 2s 11ms/step - loss: 7.1829 - acc: 0.5459 - val_loss: 9.0185 - val_acc: 0.4405\n",
            "Epoch 3/50\n",
            "196/196 [==============================] - 2s 11ms/step - loss: 7.9189 - acc: 0.5102 - val_loss: 11.5129 - val_acc: 0.2857\n",
            "Epoch 4/50\n",
            "196/196 [==============================] - 2s 11ms/step - loss: 7.1281 - acc: 0.5561 - val_loss: 7.2915 - val_acc: 0.5476\n",
            "Epoch 5/50\n",
            "196/196 [==============================] - 2s 11ms/step - loss: 7.1918 - acc: 0.5561 - val_loss: 7.8672 - val_acc: 0.5119\n",
            "Epoch 6/50\n",
            "196/196 [==============================] - 2s 11ms/step - loss: 8.3259 - acc: 0.4847 - val_loss: 6.9078 - val_acc: 0.5714\n",
            "Epoch 7/50\n",
            "196/196 [==============================] - 2s 11ms/step - loss: 6.8685 - acc: 0.5765 - val_loss: 6.9078 - val_acc: 0.5714\n",
            "Epoch 8/50\n",
            "196/196 [==============================] - 2s 11ms/step - loss: 6.9381 - acc: 0.5714 - val_loss: 7.2990 - val_acc: 0.5476\n",
            "Epoch 9/50\n",
            "196/196 [==============================] - 2s 11ms/step - loss: 7.1506 - acc: 0.5510 - val_loss: 4.6052 - val_acc: 0.7143\n",
            "Epoch 10/50\n",
            "196/196 [==============================] - 2s 11ms/step - loss: 5.9948 - acc: 0.6173 - val_loss: 5.3787 - val_acc: 0.6667\n",
            "Epoch 11/50\n",
            "196/196 [==============================] - 2s 11ms/step - loss: 6.5308 - acc: 0.5918 - val_loss: 3.7929 - val_acc: 0.7619\n",
            "Epoch 12/50\n",
            "196/196 [==============================] - 2s 11ms/step - loss: 5.1982 - acc: 0.6735 - val_loss: 1.5485 - val_acc: 0.9048\n",
            "Epoch 13/50\n",
            "196/196 [==============================] - 2s 12ms/step - loss: 3.8819 - acc: 0.7602 - val_loss: 1.1513 - val_acc: 0.9286\n",
            "Epoch 14/50\n",
            "196/196 [==============================] - 2s 12ms/step - loss: 3.2321 - acc: 0.8010 - val_loss: 0.7675 - val_acc: 0.9524\n",
            "Epoch 15/50\n",
            "196/196 [==============================] - 2s 11ms/step - loss: 3.2291 - acc: 0.8010 - val_loss: 1.5351 - val_acc: 0.9048\n",
            "Epoch 16/50\n",
            "196/196 [==============================] - 2s 11ms/step - loss: 2.9919 - acc: 0.8112 - val_loss: 0.9594 - val_acc: 0.9405\n",
            "Epoch 17/50\n",
            "196/196 [==============================] - 2s 12ms/step - loss: 3.7881 - acc: 0.7653 - val_loss: 1.1573 - val_acc: 0.9286\n",
            "Epoch 18/50\n",
            "196/196 [==============================] - 2s 11ms/step - loss: 2.9887 - acc: 0.8163 - val_loss: 1.5351 - val_acc: 0.9048\n",
            "Epoch 19/50\n",
            "196/196 [==============================] - 2s 11ms/step - loss: 3.3021 - acc: 0.7959 - val_loss: 1.1571 - val_acc: 0.9286\n",
            "Epoch 20/50\n",
            "196/196 [==============================] - 2s 11ms/step - loss: 2.8882 - acc: 0.8214 - val_loss: 2.4945 - val_acc: 0.8452\n",
            "Epoch 21/50\n",
            "196/196 [==============================] - 2s 11ms/step - loss: 3.2245 - acc: 0.8010 - val_loss: 1.5351 - val_acc: 0.9048\n",
            "Epoch 22/50\n",
            "196/196 [==============================] - 2s 11ms/step - loss: 3.2123 - acc: 0.8010 - val_loss: 1.7269 - val_acc: 0.8929\n",
            "Epoch 23/50\n",
            "196/196 [==============================] - 2s 11ms/step - loss: 2.3994 - acc: 0.8520 - val_loss: 0.9594 - val_acc: 0.9405\n",
            "Epoch 24/50\n",
            "196/196 [==============================] - 2s 11ms/step - loss: 3.5849 - acc: 0.7755 - val_loss: 1.3432 - val_acc: 0.9167\n",
            "Epoch 25/50\n",
            "196/196 [==============================] - 2s 11ms/step - loss: 3.2211 - acc: 0.8010 - val_loss: 1.3486 - val_acc: 0.9167\n",
            "Epoch 26/50\n",
            "196/196 [==============================] - 2s 11ms/step - loss: 2.8050 - acc: 0.8265 - val_loss: 0.7796 - val_acc: 0.9405\n",
            "Epoch 27/50\n",
            "196/196 [==============================] - 2s 11ms/step - loss: 2.1496 - acc: 0.8673 - val_loss: 0.9594 - val_acc: 0.9405\n",
            "Epoch 28/50\n",
            "196/196 [==============================] - 2s 11ms/step - loss: 3.3884 - acc: 0.7908 - val_loss: 0.7675 - val_acc: 0.9524\n",
            "Epoch 29/50\n",
            "196/196 [==============================] - 2s 11ms/step - loss: 3.4670 - acc: 0.7857 - val_loss: 0.9594 - val_acc: 0.9405\n",
            "Epoch 30/50\n",
            "196/196 [==============================] - 2s 11ms/step - loss: 3.0513 - acc: 0.8112 - val_loss: 0.7675 - val_acc: 0.9524\n",
            "Epoch 31/50\n",
            "196/196 [==============================] - 2s 11ms/step - loss: nan - acc: 0.9337 - val_loss: nan - val_acc: 0.9524\n",
            "Epoch 32/50\n",
            "196/196 [==============================] - 2s 11ms/step - loss: nan - acc: 0.9847 - val_loss: nan - val_acc: 0.9524\n",
            "Epoch 33/50\n",
            "196/196 [==============================] - 2s 11ms/step - loss: nan - acc: 0.9847 - val_loss: nan - val_acc: 0.9524\n",
            "Epoch 34/50\n",
            "196/196 [==============================] - 2s 12ms/step - loss: nan - acc: 0.9847 - val_loss: nan - val_acc: 0.9524\n",
            "Epoch 35/50\n",
            "196/196 [==============================] - 2s 12ms/step - loss: nan - acc: 0.9847 - val_loss: nan - val_acc: 0.9524\n",
            "Epoch 36/50\n",
            "196/196 [==============================] - 2s 12ms/step - loss: nan - acc: 0.9847 - val_loss: nan - val_acc: 0.9524\n",
            "Epoch 37/50\n",
            "196/196 [==============================] - 2s 12ms/step - loss: nan - acc: 0.9847 - val_loss: nan - val_acc: 0.9524\n",
            "Epoch 38/50\n",
            "196/196 [==============================] - 2s 12ms/step - loss: nan - acc: 0.9847 - val_loss: nan - val_acc: 0.9524\n",
            "Epoch 39/50\n",
            "196/196 [==============================] - 2s 12ms/step - loss: nan - acc: 0.9847 - val_loss: nan - val_acc: 0.9524\n",
            "Epoch 40/50\n",
            "196/196 [==============================] - 2s 12ms/step - loss: nan - acc: 0.9847 - val_loss: nan - val_acc: 0.9524\n",
            "Epoch 41/50\n",
            "196/196 [==============================] - 2s 12ms/step - loss: nan - acc: 0.9847 - val_loss: nan - val_acc: 0.9524\n",
            "Epoch 42/50\n",
            "196/196 [==============================] - 2s 12ms/step - loss: nan - acc: 0.9847 - val_loss: nan - val_acc: 0.9524\n",
            "Epoch 43/50\n",
            "196/196 [==============================] - 2s 12ms/step - loss: nan - acc: 0.9847 - val_loss: nan - val_acc: 0.9524\n",
            "Epoch 44/50\n",
            "196/196 [==============================] - 2s 12ms/step - loss: nan - acc: 0.9847 - val_loss: nan - val_acc: 0.9524\n",
            "Epoch 45/50\n",
            "196/196 [==============================] - 2s 12ms/step - loss: nan - acc: 0.9847 - val_loss: nan - val_acc: 0.9524\n",
            "Epoch 46/50\n",
            "196/196 [==============================] - 2s 12ms/step - loss: nan - acc: 0.9847 - val_loss: nan - val_acc: 0.9524\n",
            "Epoch 47/50\n",
            "196/196 [==============================] - 2s 12ms/step - loss: nan - acc: 0.9847 - val_loss: nan - val_acc: 0.9524\n",
            "Epoch 48/50\n",
            "196/196 [==============================] - 2s 12ms/step - loss: nan - acc: 0.9847 - val_loss: nan - val_acc: 0.9524\n",
            "Epoch 49/50\n",
            "196/196 [==============================] - 2s 12ms/step - loss: nan - acc: 0.9847 - val_loss: nan - val_acc: 0.9524\n",
            "Epoch 50/50\n",
            "196/196 [==============================] - 2s 12ms/step - loss: nan - acc: 0.9847 - val_loss: nan - val_acc: 0.9524\n"
          ],
          "name": "stdout"
        }
      ]
    },
    {
      "cell_type": "code",
      "metadata": {
        "id": "5ESq4y_uoG38",
        "colab_type": "code",
        "outputId": "bf61a89b-7946-4578-9a0a-0d05eb3b47cb",
        "colab": {
          "base_uri": "https://localhost:8080/",
          "height": 545
        }
      },
      "source": [
        "acc = train_model.history['acc']\n",
        "val_acc = train_model.history['val_acc']\n",
        "loss = train_model.history['loss']\n",
        "val_loss = train_model.history['val_loss']\n",
        "\n",
        "\n",
        "plt.plot(acc, label='Training acc')\n",
        "plt.plot(val_acc, label='Validation acc')\n",
        "plt.title('Training and validation accuracy')\n",
        "plt.legend()\n",
        "\n",
        "plt.figure()\n",
        "plt.plot(loss, label='Training loss')\n",
        "plt.plot(val_loss, label='Validation loss')\n",
        "plt.title('Training and validation loss')\n",
        "plt.legend()\n",
        "plt.show()"
      ],
      "execution_count": 0,
      "outputs": [
        {
          "output_type": "display_data",
          "data": {
            "image/png": "[encoded data removed]",
            "text/plain": [
              "<Figure size 432x288 with 1 Axes>"
            ]
          },
          "metadata": {
            "tags": []
          }
        },
        {
          "output_type": "display_data",
          "data": {
            "image/png": "[encoded data removed]",
            "text/plain": [
              "<Figure size 432x288 with 1 Axes>"
            ]
          },
          "metadata": {
            "tags": []
          }
        }
      ]
    },
    {
      "cell_type": "markdown",
      "metadata": {
        "id": "OBsGXNqNx1_X",
        "colab_type": "text"
      },
      "source": [
        "## Predicted"
      ]
    },
    {
      "cell_type": "code",
      "metadata": {
        "id": "hi4EIQkwKpBs",
        "colab_type": "code",
        "colab": {}
      },
      "source": [
        "for key in time_series.keys():\n",
        "  print(key)"
      ],
      "execution_count": 0,
      "outputs": []
    },
    {
      "cell_type": "code",
      "metadata": {
        "id": "tBcAbdc9bL6g",
        "colab_type": "code",
        "colab": {}
      },
      "source": [
        "y_pred = model.predict_classes(X)"
      ],
      "execution_count": 0,
      "outputs": []
    },
    {
      "cell_type": "code",
      "metadata": {
        "id": "CzYAE2G9Ldvp",
        "colab_type": "code",
        "outputId": "bea2e2c1-44f7-4ffd-a8f8-ab48aba7a157",
        "colab": {
          "base_uri": "https://localhost:8080/",
          "height": 364
        }
      },
      "source": [
        "def print_output(y):\n",
        "  for i in range(len(y)):\n",
        "    print(y[i],end=' ')\n",
        "    if((i+1)%5 == 0):\n",
        "      print('\\n')\n",
        "print_output(y_pred)"
      ],
      "execution_count": 0,
      "outputs": [
        {
          "output_type": "stream",
          "text": [
            "0 1 0 0 0 \n",
            "\n",
            "0 0 0 0 0 \n",
            "\n",
            "0 0 0 0 0 \n",
            "\n",
            "1 0 0 0 0 \n",
            "\n",
            "0 0 0 0 0 \n",
            "\n",
            "0 0 1 0 0 \n",
            "\n",
            "0 0 0 0 0 \n",
            "\n",
            "0 0 0 1 0 \n",
            "\n",
            "0 0 0 0 0 \n",
            "\n",
            "0 0 0 0 0 \n",
            "\n"
          ],
          "name": "stdout"
        }
      ]
    },
    {
      "cell_type": "code",
      "metadata": {
        "id": "73RTl_PPLfDN",
        "colab_type": "code",
        "colab": {}
      },
      "source": [
        "rect = []\n",
        "series = dict()\n",
        "\n",
        "START_X = 70\n",
        "START_Y = 15\n",
        "WIDTH = 40\n",
        "HEIGHT = 55\n",
        "DELTA_X = 51\n",
        "DELTA_Y = 70\n",
        "pos = ['A','B','C','D','E']\n",
        "\n",
        "def draw_rect(img,time_series):\n",
        "  for i in range(10):\n",
        "    for j in range(5):\n",
        "      x = START_X+(DELTA_X*i)\n",
        "      y = START_Y+(DELTA_Y*j)\n",
        "\n",
        "      cv.rectangle(img,(x,y),(x+WIDTH,y+HEIGHT),(0,255,0),1)j\n",
        "for i in range(len(clean_data)):\n",
        "  print('.',end='')\n",
        "  tmp = np.array(clean_data[i])\n",
        "  # tmp = np.array(data[i])\n",
        "  draw_rect(tmp,series)\n",
        "  rect.append(tmp)\n",
        "plot_img(rect[0])"
      ],
      "execution_count": 0,
      "outputs": []
    },
    {
      "cell_type": "code",
      "metadata": {
        "id": "jEc3cvLHLlHE",
        "colab_type": "code",
        "outputId": "b42f4cdc-e4d7-4994-c651-6ec60f4681ff",
        "colab": {
          "base_uri": "https://localhost:8080/",
          "height": 35
        }
      },
      "source": [
        "np.unique(y_train)"
      ],
      "execution_count": 0,
      "outputs": [
        {
          "output_type": "execute_result",
          "data": {
            "text/plain": [
              "array([0., 1.], dtype=float32)"
            ]
          },
          "metadata": {
            "tags": []
          },
          "execution_count": 88
        }
      ]
    },
    {
      "cell_type": "code",
      "metadata": {
        "id": "aeNYnOfQLnVl",
        "colab_type": "code",
        "colab": {}
      },
      "source": [
        ""
      ],
      "execution_count": 0,
      "outputs": []
    }
  ]
}